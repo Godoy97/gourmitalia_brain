{
 "cells": [
  {
   "cell_type": "code",
   "execution_count": 49,
   "metadata": {},
   "outputs": [],
   "source": [
    "import pandas as pd\n",
    "# !pip install xlrd\n",
    "file = 'original_all.xls'\n",
    "dfs = pd.read_html(file, skiprows=5)\n",
    "df = dfs[0]\n",
    "# Set the DataFrame columns to the values of the second row (which is at index 1)\n",
    "df.columns = df.iloc[0]\n",
    "\n",
    "# Drop the first two rows from the DataFrame as they are no longer needed\n",
    "df = df.drop(df.index[0:1])\n",
    "\n",
    "# Reset the index of the DataFrame\n",
    "df = df.reset_index(drop=True)\n",
    "\n",
    "# FIX DATE\n",
    "df['Fecha Documento'] = df['Fecha Documento'].str.replace('=', '')  # Remove \"=\"\n",
    "df['Fecha Documento'] = df['Fecha Documento'].str.replace('\"', '')  # Remove extra quotes\n",
    "\n",
    "# Step 2: Convert the cleaned strings to datetime objects // Cant be done here needs to be in the importation\n",
    "# df['Fecha Documento'] = pd.to_datetime(df['Fecha Documento'], format='%d/%m/%Y')\n",
    "\n",
    "# Fix the int of SKU in the main df\n",
    "df['SKU'] = df['SKU'].str.replace('=', '')  # Remove \"=\"\n",
    "df['SKU'] = df['SKU'].str.replace('\"', '')  # Remove extra quotes\n",
    "df['SKU'] = df['SKU'].astype(str)\n",
    "\n",
    "#Create new sucursal\n",
    "df = df.dropna(subset=['Sucursal'])\n",
    "df.loc[(df['Cliente'] == 'UBER PORTIER CHILE SPA'), 'Sucursal'] = 'Uber'\n",
    "df.loc[(df['Vendedor'] == 'Loadingplay Connect'), 'Sucursal'] = 'Shopify'\n",
    "\n",
    "\n",
    "# Add brands!\n",
    "#df shape\n",
    "df_brands = pd.read_csv('brands.csv')\n",
    "# merge the two df\n",
    "df2_with_brands = pd.merge(df, df_brands[['SKU', 'marca']], on='SKU', how='left')\n",
    "df2_with_brands.loc[df2_with_brands['Producto / Servicio'].str.contains('MELEGATTI', case=False, na=False), 'marca'] = 'Melegatti'\n",
    "\n",
    "# List of specific 'Producto / Servicio' values to match\n",
    "productos = [\n",
    "    'PANDORO CLASSIC ELEGANCE LATA 1 kg',\n",
    "    'PANETTONE PISTACCHIO LATA 750 g',\n",
    "    'PANETTONE CLASSICO GOLD LATTA 1 Kg',\n",
    "    'BISCOTTI AMARETTI MIX LATA RETRO 175 g',\n",
    "]\n",
    "\n",
    "# Update 'marca' to 'Lazzaroni' where 'Producto / Servicio' matches any in the list\n",
    "df2_with_brands.loc[df2_with_brands['Producto / Servicio'].isin(productos), 'marca'] = 'LAZZARONI'\n",
    "\n",
    "productos = [\n",
    "    'CREMA CAFFE FREDDA 550 g',\n",
    "]\n",
    "# Update 'marca' to 'Lazzaroni' where 'Producto / Servicio' matches any in the list\n",
    "df2_with_brands.loc[df2_with_brands['Producto / Servicio'].isin(productos), 'marca'] = 'Borbone'\n",
    "\n",
    "# fill the NaN with 'Other'\n",
    "df2_with_brands['marca'] = df2_with_brands['marca'].fillna('Other')\n",
    "#  Rename the marca column to brand\n",
    "# df2_with_brands.rename(columns={'marca': 'brand'}, inplace=True)\n",
    "# export df to csv\n",
    "df2_with_brands.to_csv('data.csv', index=False)\n"
   ]
  },
  {
   "cell_type": "code",
   "execution_count": 4,
   "metadata": {},
   "outputs": [
    {
     "data": {
      "text/plain": [
       "Index(['Tipo Movimiento', 'Sucursal', 'Vendedor', 'Cliente', 'Rut Cliente',\n",
       "       'Tipo de Documento', 'Numero Documento', 'Tracking Number',\n",
       "       'Fecha Documento', 'Fecha y Hora Venta', 'Lista de Precio',\n",
       "       'Tipo de Producto / Servicio', 'SKU', 'Producto / Servicio',\n",
       "       'Otros Atributos', 'Precio Neto Unitario', 'Cantidad',\n",
       "       'Subtotal Impuestos', 'Subtotal Neto', 'Subtotal Bruto',\n",
       "       'Costo Neto Unitario', 'Margen', 'Costo Total Neto', '% Margen',\n",
       "       'Detalle de Productos/Servicios Pack/Promo', 'Dirección Cliente',\n",
       "       'Comuna Cliente', 'Ciudad Cliente', 'Email Cliente', 'marca'],\n",
       "      dtype='object')"
      ]
     },
     "execution_count": 4,
     "metadata": {},
     "output_type": "execute_result"
    }
   ],
   "source": [
    "import pandas as pd\n",
    "df2 = pd.read_csv('data.csv')\n",
    "df2.columns"
   ]
  },
  {
   "cell_type": "code",
   "execution_count": 6,
   "metadata": {},
   "outputs": [
    {
     "name": "stdout",
     "output_type": "stream",
     "text": [
      "Month\n",
      "1       20\n",
      "2       40\n",
      "3     1340\n",
      "4      220\n",
      "5      800\n",
      "6      420\n",
      "7      610\n",
      "8      540\n",
      "9       40\n",
      "10      40\n",
      "11    1040\n",
      "12    1020\n",
      "Name: Cantidad, dtype: int64\n"
     ]
    },
    {
     "name": "stderr",
     "output_type": "stream",
     "text": [
      "/var/folders/8v/92m9nr2x2rlg853t_ypdtlrr0000gn/T/ipykernel_97745/3068192599.py:10: SettingWithCopyWarning: \n",
      "A value is trying to be set on a copy of a slice from a DataFrame.\n",
      "Try using .loc[row_indexer,col_indexer] = value instead\n",
      "\n",
      "See the caveats in the documentation: https://pandas.pydata.org/pandas-docs/stable/user_guide/indexing.html#returning-a-view-versus-a-copy\n",
      "  filtered_df['Month'] = filtered_df['Fecha Documento'].dt.month\n"
     ]
    }
   ],
   "source": [
    "import pandas as pd\n",
    "\n",
    "# Assuming df2 is your DataFrame\n",
    "df2['Fecha Documento'] = pd.to_datetime(df2['Fecha Documento'], format='%d/%m/%Y')\n",
    "\n",
    "# Filter the DataFrame to include only the rows for the specified product and 'CASA MATRIZ' sucursal\n",
    "filtered_df = df2[(df2['Producto / Servicio'] == 'PROSCIUTTO MONTANA CORTE BUONA PICADO 500 g') & (df2['Sucursal'] == 'CASA MATRIZ')]\n",
    "\n",
    "# Extract month from the 'Fecha Documento' column\n",
    "filtered_df['Month'] = filtered_df['Fecha Documento'].dt.month\n",
    "\n",
    "# Group by month and sum the quantity sold\n",
    "monthly_quantity = filtered_df.groupby('Month')['Cantidad'].sum()\n",
    "\n",
    "print(monthly_quantity)\n"
   ]
  },
  {
   "cell_type": "code",
   "execution_count": 60,
   "metadata": {},
   "outputs": [],
   "source": [
    "#show me column 15 and 16\n",
    "unique_products = df2[df2['marca'] == 'GOURMITALIA']['Producto / Servicio'].unique()\n"
   ]
  },
  {
   "cell_type": "code",
   "execution_count": 61,
   "metadata": {},
   "outputs": [
    {
     "data": {
      "text/plain": [
       "array(['DESPACHO FUERA DE ZONA GOURMITALIA',\n",
       "       'DESPACHO ZONA 2 GOURMITALIA', 'CAFFÈ ESPRESSO',\n",
       "       'BOLSA PAPEL KRAFT', 'PESTO AL BASILICO GOURMITALIA 190 g',\n",
       "       'BOLSAS GOURMITALIA NAVIDAD NEGRA', 'CANASTO MIMBRE GRANDE',\n",
       "       'PACK ARANCINO - ONLINE', 'PINOLI ITALIANO UNIDAD FCO. 100 g',\n",
       "       'PINOLI ITALIANO UNIDAD BOLSA 500 g',\n",
       "       'DESPACHO ZONA 1 GOURMITALIA', 'PINOLI ITALIANO UNIDAD FCO. 250 g',\n",
       "       'PINOLI ITALIANO UNIDAD FCO. 500 g',\n",
       "       'SERVICIOS GOURMITALIA EVENTOS', 'BOLSA TELA GOURMITALIA NEGRA',\n",
       "       'SERVICIOS GOURMITALIA DESCARGA/CARGA',\n",
       "       'SERVICIOS GOURMITALIA ARRIENDO BODEGA REFRIGERADOR AL MES',\n",
       "       'SERVICIOS GOURMITALIA TRASLADO BOXER',\n",
       "       'BOLSA GOURMITALIA REGALO ROJA GRANDE',\n",
       "       'SERVICIOS GOURMITALIA PIZZAIOLO', 'CANASTO MIMBRE NAVIDEÑO CHICO',\n",
       "       'CANASTO MIMBRE NAVIDEÑO GRANDE + CELOFAN'], dtype=object)"
      ]
     },
     "execution_count": 61,
     "metadata": {},
     "output_type": "execute_result"
    }
   ],
   "source": [
    "unique_products"
   ]
  },
  {
   "cell_type": "code",
   "execution_count": 17,
   "metadata": {},
   "outputs": [
    {
     "name": "stdout",
     "output_type": "stream",
     "text": [
      "1734\n"
     ]
    }
   ],
   "source": [
    "shopify_count = (df2['Sucursal'] == 'Uber').sum()\n",
    "print(shopify_count)"
   ]
  },
  {
   "cell_type": "code",
   "execution_count": 18,
   "metadata": {},
   "outputs": [
    {
     "name": "stdout",
     "output_type": "stream",
     "text": [
      "75552\n"
     ]
    }
   ],
   "source": [
    "df2.loc[(df2['Vendedor'] == 'Loadingplay Connect'), 'Sucursal'] = 'Shopify'\n",
    "shopify_count = (df2['Sucursal'] == 'Shopify').sum()\n",
    "print(shopify_count)"
   ]
  },
  {
   "cell_type": "code",
   "execution_count": 78,
   "metadata": {},
   "outputs": [],
   "source": [
    "df2['Fecha Documento'] = df2['Fecha Documento'].str.replace('=', '')  # Remove \"=\"\n",
    "df2['Fecha Documento'] = df2['Fecha Documento'].str.replace('\"', '')  # Remove extra quotes\n",
    "\n",
    "# Step 2: Convert the cleaned strings to datetime objects\n",
    "df2['Fecha Documento'] = pd.to_datetime(df2['Fecha Documento'], format='%d/%m/%Y')"
   ]
  },
  {
   "cell_type": "code",
   "execution_count": 7,
   "metadata": {},
   "outputs": [],
   "source": [
    "import pandas as pd\n",
    "df2 = pd.read_csv('data.csv')\n"
   ]
  },
  {
   "cell_type": "code",
   "execution_count": 9,
   "metadata": {},
   "outputs": [
    {
     "data": {
      "text/plain": [
       "Index(['Tipo Movimiento', 'Sucursal', 'Vendedor', 'Cliente', 'Rut Cliente',\n",
       "       'Tipo de Documento', 'Numero Documento', 'Tracking Number',\n",
       "       'Fecha Documento', 'Fecha y Hora Venta', 'Lista de Precio',\n",
       "       'Tipo de Producto / Servicio', 'SKU', 'Producto / Servicio',\n",
       "       'Otros Atributos', 'Precio Neto Unitario', 'Cantidad',\n",
       "       'Subtotal Impuestos', 'Subtotal Neto', 'Subtotal Bruto',\n",
       "       'Costo Neto Unitario', 'Margen', 'Costo Total Neto', '% Margen',\n",
       "       'Detalle de Productos/Servicios Pack/Promo', 'Dirección Cliente',\n",
       "       'Comuna Cliente', 'Ciudad Cliente', 'Email Cliente', 'marca'],\n",
       "      dtype='object')"
      ]
     },
     "execution_count": 9,
     "metadata": {},
     "output_type": "execute_result"
    }
   ],
   "source": [
    "df2.columns"
   ]
  },
  {
   "cell_type": "code",
   "execution_count": 10,
   "metadata": {},
   "outputs": [
    {
     "data": {
      "text/plain": [
       "array(['FIAMBRES', 'LICORES Y BEBIDAS', 'QUESOS', 'CONSERVAS', 'TOMATES',\n",
       "       'PASTAS', 'ARROZ', 'ACEITES Y VINAGRES', 'CONDIMENTOS',\n",
       "       'POSTRES Y DULCES', 'HARINAS', 'CAFÉ', 'GOURMITALIA',\n",
       "       'COCINA Y ACCESORIOS', 'MASAS PRECOCIDAS', 'Sin Tipo'],\n",
       "      dtype=object)"
      ]
     },
     "execution_count": 10,
     "metadata": {},
     "output_type": "execute_result"
    }
   ],
   "source": [
    "unique_sucursal = df2['Tipo de Producto / Servicio'].unique()\n",
    "unique_sucursal"
   ]
  },
  {
   "cell_type": "code",
   "execution_count": 48,
   "metadata": {},
   "outputs": [
    {
     "data": {
      "text/plain": [
       "124"
      ]
     },
     "execution_count": 48,
     "metadata": {},
     "output_type": "execute_result"
    }
   ],
   "source": [
    "other_count = (df2['marca'] == 'Caffe Borbone').sum()\n",
    "other_count\n",
    "# Aca quede"
   ]
  },
  {
   "cell_type": "code",
   "execution_count": 46,
   "metadata": {},
   "outputs": [
    {
     "data": {
      "text/plain": [
       "array(['A&F', 'ALBIERO', 'ALFA', 'ALPI', 'ANTONIO AMATO',\n",
       "       'BELLA CONTADINA', 'BOD 12', 'BODEGA 12', 'BONI', 'BONOMELLI',\n",
       "       'BORBNE', 'BORBONE', 'BORGHETTO', 'BOSCO D ORO', 'BUFALY', 'Boni',\n",
       "       'Borbone', 'CANNAMELA', 'CAVICCHIOLI', 'CIEMME', 'CLEMENTE',\n",
       "       'COLI', 'CORTE BUONA', 'CURTI', 'CURTIRISO', 'Caffe Borbone',\n",
       "       'Corte Buona', 'DCORDI', 'DECORDI', 'DI MARTINO', 'DIDIESSE',\n",
       "       'DIMARTINO', 'DOLCIARIA ACQUAVIVA', 'FALCONE', 'FERRARI',\n",
       "       'FERRERO', 'FIORENTINI', 'GALLO', 'GASTOS VARIOS', 'GGI',\n",
       "       'GI METAL', 'GI-METAL', 'GIMETAL', 'GOUR', 'GOURMITALIA',\n",
       "       'GRANORO', 'GRAZIELLA', 'Gourmitalia', 'IMPRESOS JEMBA',\n",
       "       'LA PICCOLA', 'LATTERIA SORRENTINA', 'LAZZARONI', 'LE 5 STAGIONI',\n",
       "       'LOZZANO', 'LUX', 'Lazzaroni', 'MARINI', 'MONARI DEFERZONI',\n",
       "       'MONARI DEFORZONI', 'MONARI FEDERZONI', 'MONTENEGRO', 'MORENO',\n",
       "       'MOTTA', 'MULINO BIANCO', 'MURGELLA', 'MUTTI', 'Melegatti',\n",
       "       'NEGRINI', 'NORTINDAL', 'NOVELLA', 'Negrini', 'ORTO CONSERVIERA',\n",
       "       'Other', 'PANNA', 'PRINCIPE', 'Principe', 'ROSSO GARGANO',\n",
       "       'ROSSO GARGANO ', 'ROSSO GRAGANI', 'SIN MARCA', 'SOLANIA',\n",
       "       'SORRENTINA', 'STREGA', 'SUNMIX', 'TOSTANI', 'TREVIDEA', 'VERGANI',\n",
       "       'Vergani', 'WINEHOUSE', 'WINEHOUSE ', 'alpi', 'gallo',\n",
       "       'gourmitalia'], dtype=object)"
      ]
     },
     "execution_count": 46,
     "metadata": {},
     "output_type": "execute_result"
    }
   ],
   "source": [
    "import numpy as np\n",
    "\n",
    "unique_values = np.sort(df2['marca'].unique())\n",
    "unique_values\n"
   ]
  },
  {
   "cell_type": "code",
   "execution_count": 42,
   "metadata": {},
   "outputs": [],
   "source": [
    "df = df.iloc[5:]\n",
    "df = df.rename(columns=df.iloc[0])\n",
    "# Print df head\n"
   ]
  },
  {
   "cell_type": "code",
   "execution_count": 53,
   "metadata": {},
   "outputs": [
    {
     "ename": "AttributeError",
     "evalue": "'list' object has no attribute 'columns'",
     "output_type": "error",
     "traceback": [
      "\u001b[0;31m---------------------------------------------------------------------------\u001b[0m",
      "\u001b[0;31mAttributeError\u001b[0m                            Traceback (most recent call last)",
      "Cell \u001b[0;32mIn[53], line 1\u001b[0m\n\u001b[0;32m----> 1\u001b[0m \u001b[43mdf\u001b[49m\u001b[38;5;241;43m.\u001b[39;49m\u001b[43mcolumns\u001b[49m\n",
      "\u001b[0;31mAttributeError\u001b[0m: 'list' object has no attribute 'columns'"
     ]
    }
   ],
   "source": [
    "df.columns"
   ]
  },
  {
   "cell_type": "code",
   "execution_count": 47,
   "metadata": {},
   "outputs": [
    {
     "name": "stdout",
     "output_type": "stream",
     "text": [
      "['CASA MATRIZ' 'EVENTOS - CASA MATRIZ' 'TIENDA VITACURA']\n"
     ]
    }
   ],
   "source": [
    "# Show me the unique values of column 'A'\n",
    "print(df['Sucursal'].unique())\n",
    "# # Count the nan values in the column 'A'\n",
    "# print(df['Sucursal'].isnull().sum())\n",
    "# # Drop the rows with nan values in the column 'A'\n",
    "# df = df.dropna(subset=['Sucursal'])\n",
    "# print(df['Sucursal'].unique())\n"
   ]
  },
  {
   "cell_type": "code",
   "execution_count": 24,
   "metadata": {},
   "outputs": [],
   "source": [
    "df['Fecha Documento'] = pd.to_datetime(df['Fecha Documento'], format='%d/%m/%Y')\n"
   ]
  },
  {
   "cell_type": "code",
   "execution_count": 27,
   "metadata": {},
   "outputs": [
    {
     "name": "stdout",
     "output_type": "stream",
     "text": [
      "    Tipo Movimiento         Sucursal       Vendedor      Cliente Rut Cliente  \\\n",
      "481           Venta  TIENDA VITACURA  MANUEL UGARTE  Sin cliente         NaN   \n",
      "\n",
      "        Tipo de Documento  Numero Documento           Tracking Number  \\\n",
      "481  boleta electrónica t            104341  63ebea668bd0060549391861   \n",
      "\n",
      "    Fecha Documento   Fecha y Hora Venta  ... Subtotal Bruto  \\\n",
      "481      2023-02-14  14/02/2023 05:09 PM  ...          11480   \n",
      "\n",
      "    Costo Neto Unitario Margen Costo Total Neto % Margen  \\\n",
      "481                3552   6095             3552       63   \n",
      "\n",
      "     Detalle de Productos/Servicios Pack/Promo  Dirección Cliente  \\\n",
      "481                                        NaN                NaN   \n",
      "\n",
      "     Comuna Cliente  Ciudad Cliente  Email Cliente  \n",
      "481             NaN             NaN            NaN  \n",
      "\n",
      "[1 rows x 29 columns]\n"
     ]
    }
   ],
   "source": [
    "#Sort the dataframe by column 'Fecha Documento' in ascending order\n",
    "df = df.sort_values(by='Fecha Documento', ascending=True)\n",
    "print(df.head(1))\n",
    "#print value in the first row where Sucursal is 'CASA MATRIZ'\n",
    "# print(df[df['Sucursal'] == 'CASA MATRIZ'].iloc[0])"
   ]
  },
  {
   "cell_type": "code",
   "execution_count": 48,
   "metadata": {},
   "outputs": [
    {
     "name": "stdout",
     "output_type": "stream",
     "text": [
      "1895580408\n"
     ]
    }
   ],
   "source": [
    "filtered_df = df[df['Sucursal'] == 'CASA MATRIZ']\n",
    "total_branch = filtered_df['Subtotal Bruto'].sum()\n",
    "print(total_branch)"
   ]
  },
  {
   "cell_type": "markdown",
   "metadata": {},
   "source": [
    "# BRANDS"
   ]
  },
  {
   "cell_type": "code",
   "execution_count": 40,
   "metadata": {},
   "outputs": [],
   "source": [
    "# Supose df2 is the df ready just missing the columns brands\n",
    "\n",
    "#df shape\n",
    "df3 = pd.read_csv('productos.csv')\n",
    "# Keep just Gourmitalia\n",
    "df3 = df3[df3['proveedores_id'] == 1]\n",
    "#  Rename the sku to match the other df\n",
    "df3.rename(columns={'sku_code': 'SKU'}, inplace=True)\n",
    "# Just keep the columns we need to merge with the main df SKU and marca\n",
    "df3 = df3[['SKU', 'marca']]\n",
    "#export to csv\n",
    "df3.to_csv('brands.csv', index=False)\n",
    "# Fix the int of SKU in the main df\n",
    "# FIX DATE\n",
    "df2['SKU'] = df2['SKU'].str.replace('=', '')  # Remove \"=\"\n",
    "df2['SKU'] = df2['SKU'].str.replace('\"', '')  # Remove extra quotes\n",
    "df2['SKU'] = df2['SKU'].astype(str)\n",
    "# merge the two df\n",
    "df2_with_marca = pd.merge(df2, df3[['SKU', 'marca']], on='SKU', how='left')\n"
   ]
  },
  {
   "cell_type": "code",
   "execution_count": 28,
   "metadata": {},
   "outputs": [
    {
     "data": {
      "text/plain": [
       "Index(['id', 'image_path', 'id_bsale', 'id_variante', 'proveedores_id',\n",
       "       'sku_code', 'nombre_producto', 'descripcion', 'precio', 'categoria',\n",
       "       'formato', 'stock', 'created_at', 'updated_at', 'cantidad', 'unidad',\n",
       "       'estado', 'formato_id', 'marca', 'taxes'],\n",
       "      dtype='object')"
      ]
     },
     "execution_count": 28,
     "metadata": {},
     "output_type": "execute_result"
    }
   ],
   "source": [
    "df3.columns"
   ]
  },
  {
   "cell_type": "code",
   "execution_count": 29,
   "metadata": {},
   "outputs": [
    {
     "data": {
      "text/plain": [
       "Index(['Tipo Movimiento', 'Sucursal', 'Vendedor', 'Cliente', 'Rut Cliente',\n",
       "       'Tipo de Documento', 'Numero Documento', 'Tracking Number',\n",
       "       'Fecha Documento', 'Fecha y Hora Venta', 'Lista de Precio',\n",
       "       'Tipo de Producto / Servicio', 'SKU', 'Producto / Servicio',\n",
       "       'Otros Atributos', 'Precio Neto Unitario', 'Cantidad',\n",
       "       'Subtotal Impuestos', 'Subtotal Neto', 'Subtotal Bruto',\n",
       "       'Costo Neto Unitario', 'Margen', 'Costo Total Neto', '% Margen',\n",
       "       'Detalle de Productos/Servicios Pack/Promo', 'Dirección Cliente',\n",
       "       'Comuna Cliente', 'Ciudad Cliente', 'Email Cliente'],\n",
       "      dtype='object')"
      ]
     },
     "execution_count": 29,
     "metadata": {},
     "output_type": "execute_result"
    }
   ],
   "source": [
    "df2.columns"
   ]
  },
  {
   "cell_type": "code",
   "execution_count": 30,
   "metadata": {},
   "outputs": [
    {
     "data": {
      "text/plain": [
       "(1209, 20)"
      ]
     },
     "execution_count": 30,
     "metadata": {},
     "output_type": "execute_result"
    }
   ],
   "source": [
    "df3.shape\n"
   ]
  },
  {
   "cell_type": "code",
   "execution_count": 31,
   "metadata": {},
   "outputs": [
    {
     "name": "stderr",
     "output_type": "stream",
     "text": [
      "/var/folders/8v/92m9nr2x2rlg853t_ypdtlrr0000gn/T/ipykernel_71591/2429081202.py:2: SettingWithCopyWarning: \n",
      "A value is trying to be set on a copy of a slice from a DataFrame\n",
      "\n",
      "See the caveats in the documentation: https://pandas.pydata.org/pandas-docs/stable/user_guide/indexing.html#returning-a-view-versus-a-copy\n",
      "  df3.rename(columns={'sku_code': 'SKU'}, inplace=True)\n"
     ]
    }
   ],
   "source": [
    "# Rename 'sku_code' in df3 to 'SKU'\n",
    "df3.rename(columns={'sku_code': 'SKU'}, inplace=True)"
   ]
  },
  {
   "cell_type": "code",
   "execution_count": 33,
   "metadata": {},
   "outputs": [],
   "source": [
    "df2_with_marca = pd.merge(df2, df3[['SKU', 'marca']], on='SKU', how='left')\n"
   ]
  },
  {
   "cell_type": "code",
   "execution_count": 47,
   "metadata": {},
   "outputs": [
    {
     "name": "stdout",
     "output_type": "stream",
     "text": [
      "Number of rows with NaN in the 'Marca' column: 7547\n",
      "Tipo Movimiento                                                              Venta\n",
      "Sucursal                                                               CASA MATRIZ\n",
      "Vendedor                                                         REYNALDO CARDENAS\n",
      "Cliente                                                    GRACIELA CANDIA KWASNIK\n",
      "Rut Cliente                                                             14520286-8\n",
      "Tipo de Documento                                            factura electrónica t\n",
      "Numero Documento                                                            118817\n",
      "Tracking Number                                                                NaN\n",
      "Fecha Documento                                                2023-02-14 00:00:00\n",
      "Fecha y Hora Venta                                          =\"14/02/2023 07:47 AM\"\n",
      "Lista de Precio                                               =\"MAYORISTA 11/2022\"\n",
      "Tipo de Producto / Servicio                                       POSTRES Y DULCES\n",
      "SKU                                                                       PNT001CA\n",
      "Producto / Servicio                          PANETTONE MELEGATTI TRADIZIONALE 1 kg\n",
      "Otros Atributos                                                                NaN\n",
      "Precio Neto Unitario                                                         65400\n",
      "Cantidad                                                                        30\n",
      "Subtotal Impuestos                                                           37280\n",
      "Subtotal Neto                                                                19620\n",
      "Subtotal Bruto                                                               23348\n",
      "Costo Neto Unitario                                                          65400\n",
      "Margen                                                                          00\n",
      "Costo Total Neto                                                            196200\n",
      "% Margen                                                                        00\n",
      "Detalle de Productos/Servicios Pack/Promo                                      NaN\n",
      "Dirección Cliente                                                     FLANDES 1034\n",
      "Comuna Cliente                                                          LAS CONDES\n",
      "Ciudad Cliente                                                            SANTIAGO\n",
      "Email Cliente                                          gracielamcandia@hotmail.com\n",
      "marca                                                                          NaN\n",
      "Name: 52, dtype: object\n"
     ]
    }
   ],
   "source": [
    "# Count the number of rows where 'Marca' is NaN\n",
    "nan_count = df2_with_brands['marca'].isna().sum()\n",
    "\n",
    "print(f\"Number of rows with NaN in the 'Marca' column: {nan_count}\")\n",
    "\n",
    "# Show a row where marca is Nan\n",
    "print(df2_with_brands[df2_with_brands['marca'].isna()].iloc[0])\n"
   ]
  },
  {
   "cell_type": "code",
   "execution_count": 42,
   "metadata": {},
   "outputs": [
    {
     "data": {
      "text/plain": [
       "0         14024\n",
       "1         14022\n",
       "2         15203\n",
       "3         14013\n",
       "4         33005\n",
       "          ...  \n",
       "165646    65020\n",
       "165647    33055\n",
       "165648    65021\n",
       "165649    33005\n",
       "165650      nan\n",
       "Name: SKU, Length: 165651, dtype: object"
      ]
     },
     "execution_count": 42,
     "metadata": {},
     "output_type": "execute_result"
    }
   ],
   "source": [
    "df2['SKU']"
   ]
  }
 ],
 "metadata": {
  "kernelspec": {
   "display_name": "venv",
   "language": "python",
   "name": "python3"
  },
  "language_info": {
   "codemirror_mode": {
    "name": "ipython",
    "version": 3
   },
   "file_extension": ".py",
   "mimetype": "text/x-python",
   "name": "python",
   "nbconvert_exporter": "python",
   "pygments_lexer": "ipython3",
   "version": "3.11.7"
  }
 },
 "nbformat": 4,
 "nbformat_minor": 2
}
